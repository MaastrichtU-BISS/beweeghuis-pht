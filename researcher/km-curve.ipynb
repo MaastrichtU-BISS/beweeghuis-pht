{
 "cells": [
  {
   "cell_type": "markdown",
   "id": "1c0c782e-1cac-449b-9d0d-c7b348f5dee0",
   "metadata": {},
   "source": [
    "# Federated Kaplan-Meier curve\n",
    "This notebook explains how to calculate a federated Kaplan-Meier curve. The first step is to install the required libraries (when necessary)"
   ]
  },
  {
   "cell_type": "code",
   "execution_count": null,
   "id": "17427293-f450-4750-a08c-df43b7c204ab",
   "metadata": {},
   "outputs": [],
   "source": [
    "! pip install -r requirements.txt"
   ]
  },
  {
   "cell_type": "markdown",
   "id": "58fc18a5-2b31-4afd-a2e1-c2fe10c71bd1",
   "metadata": {},
   "source": [
    "## Credentials and login\n",
    "Provide the correct credentials below, to log into a Federated Learning message broker (server). The following variables need to be configured:\n",
    "- `server_url`: the url where the service is running (without port or subfolder specification)\n",
    "- `server_port`: the port number where the server can be reached\n",
    "- `server_api`: the subfolder URL specification needed, default is '/api'\n",
    "- `username`: username of the researcher on the message broker server\n",
    "- `password`: password of the researcher on the message broker server\n",
    "- `organization_key`: if encryption is enabled, the organization key needs to be provided here"
   ]
  },
  {
   "cell_type": "code",
   "execution_count": null,
   "id": "3f50481a-859e-48d5-8ea0-a7a993ebb247",
   "metadata": {},
   "outputs": [],
   "source": [
    "from vantage6.client import Client\n",
    "import json, time\n",
    "\n",
    "# Load your configuration settings from a file or environment\n",
    "config = {\n",
    "    'server_url': 'http://host.docker.internal',\n",
    "    'server_port': 5000,\n",
    "    'server_api': '/api',\n",
    "    'username': 'ortho-user',\n",
    "    'password': 'ortho-password',\n",
    "    'organization_key': None\n",
    "}\n",
    "\n",
    "client = Client(config['server_url'], config['server_port'], config['server_api'], log_level='info')\n",
    "client.authenticate(username=config['username'], password=config['password'])\n",
    "client.setup_encryption(config['organization_key'])\n",
    "client.log_level = 'warn'"
   ]
  },
  {
   "cell_type": "markdown",
   "id": "e913b439-e393-4497-a0c5-3aa95f380940",
   "metadata": {},
   "source": [
    "## Define the task to execute\n",
    "Now we are logged into the message broker, we can post a request to execute a specific algorithm. In our case to calculate a Kaplan-Meier curve.\n",
    "\n",
    "To make this happen, we need to specify some information regarding the algorithm to execute. These are algorithm-specific variables:\n",
    "- `time_column_name`: The column name which represents the time for the right-censored information, e.g. survival time\n",
    "- `censor_column_name`: the column name which represents the status at the specified time point (e.g. survival yes/no at a specific survival time)\n",
    "- `organization_ids`: the organizations involved in running the experiment. These are the numeric identifiers of the organizations\n",
    "- `bin_size`: optional parameter, to fix a specific bin size for the time column"
   ]
  },
  {
   "cell_type": "code",
   "execution_count": null,
   "id": "617f432f-a031-4609-9c7b-8190eaa749f3",
   "metadata": {},
   "outputs": [],
   "source": [
    "input_ = {\n",
    "    'method': 'master',\n",
    "    'kwargs': {\n",
    "        'time_column_name': 'Survival.time',\n",
    "        'censor_column_name': 'deadstatus.event',\n",
    "        'organization_ids': [2, 3, 4], # Example organization IDs\n",
    "        'bin_size': None  # Or a specific bin size\n",
    "    }\n",
    "}"
   ]
  },
  {
   "cell_type": "markdown",
   "id": "cca89c9d-27ec-4a20-a5ba-ef58fd168485",
   "metadata": {},
   "source": [
    "### Execute the task\n",
    "Now we can execute the task itself. Mind the `image` parameter, which refers to a Docker image which will be pulled (=downloaded) at every data station (=node) and executed. The previously defined input is passed in the `input_` parameter."
   ]
  },
  {
   "cell_type": "code",
   "execution_count": null,
   "id": "cbf6ea4f-6e54-4804-a040-7fb2a8216e1d",
   "metadata": {},
   "outputs": [],
   "source": [
    "task = client.task.create(\n",
    "    collaboration=1,  # Use your specific collaboration ID\n",
    "    organizations=[2],  # List your organization IDs\n",
    "    name='Kaplan-Meier Task',  # Give your task a specific name\n",
    "    image='ghcr.io/mdw-nl/v6-km-studyathon:v0.0.16',  # Specify the desired algorithm Docker image version\n",
    "    description='Survival analysis using Kaplan-Meier',  # Describe the task\n",
    "    databases=[{'label': 'default'}],  # Use your database label\n",
    "    input_=input_\n",
    ")"
   ]
  },
  {
   "cell_type": "markdown",
   "id": "7319387d-770f-4a04-b089-8a90b9ed6830",
   "metadata": {},
   "source": [
    "## Download and interpret results\n",
    "In the following steps, we will download the results, and interpret them both in numerical and visual form. The following cell will download the results."
   ]
  },
  {
   "cell_type": "code",
   "execution_count": null,
   "id": "4bdd1a01-ee6c-4c43-95e1-0a6777f5f6dd",
   "metadata": {},
   "outputs": [],
   "source": [
    "task_info = client.task.get(task['id'], include_results=True)\n",
    "while not task_info['status']=='completed':\n",
    "    print(\"No result (yet) to be retrieved, waiting\")\n",
    "    time.sleep(5)\n",
    "    task_info = client.task.get(task['id'], include_results=True)\n",
    "\n",
    "result = client.result.from_task(task['id'])[\"data\"][0][\"result\"]\n",
    "result = result.replace(\"\\\\\", \"\").strip(\"\\\"\")\n",
    "result = json.loads(result)"
   ]
  },
  {
   "cell_type": "markdown",
   "id": "01f4eb5f-a1c4-433c-93bf-5b3c3815763b",
   "metadata": {},
   "source": [
    "### Calculate survival percentage\n",
    "Based on the results, we can retrieve the survival percentage at a given follow-up timepoint. Follow-up time is measured in days, hence the calculation for 2 years would be `365*2`."
   ]
  },
  {
   "cell_type": "code",
   "execution_count": null,
   "id": "f775791c-46f5-4f85-9b6f-5206f06a1656",
   "metadata": {},
   "outputs": [],
   "source": [
    "target_time = 365*2\n",
    "res_key, res_val = min(result[\"Survival.time\"].items(), key=lambda x: abs(target_time - x[1]))\n",
    "res_perc = result[\"survival_cdf\"][res_key]\n",
    "print(f\"The survival percentage for two years after treatment is {(res_perc*100):.0f}%\")"
   ]
  },
  {
   "cell_type": "markdown",
   "id": "f8723c1a-6e2d-44f0-8e4b-483c1b312465",
   "metadata": {},
   "source": [
    "### Create Kaplan-Meier plot\n",
    "Based on the results, produce the kaplan meier plot. Here we also include a crosshair for the follow-up timepoint as retrieved above."
   ]
  },
  {
   "cell_type": "code",
   "execution_count": null,
   "id": "aefbc869-eedc-4ed0-a8eb-24348ee0bade",
   "metadata": {},
   "outputs": [],
   "source": [
    "# plot KM curve\n",
    "import matplotlib.pyplot as plt\n",
    "plt.vlines(x = target_time, ymin = 0, ymax = 1,\n",
    "           colors = 'lightgray',\n",
    "           label = '2-year mark')\n",
    "plt.hlines(y = res_perc, xmin = 0, xmax = max(result[\"Survival.time\"].values()),\n",
    "           colors = 'lightgray',\n",
    "           label = '2-year mark')\n",
    "plt.step(result[\"Survival.time\"].values(), result[\"survival_cdf\"].values(), linestyle='solid')\n",
    "plt.xlabel('Days')\n",
    "plt.ylabel('Percentage')\n",
    "plt.title('Kaplan Meier curve survival FL')\n",
    "# plt.savefig('km-plot.png')\n",
    "plt.show()"
   ]
  }
 ],
 "metadata": {
  "kernelspec": {
   "display_name": "Python 3 (ipykernel)",
   "language": "python",
   "name": "python3"
  },
  "language_info": {
   "codemirror_mode": {
    "name": "ipython",
    "version": 3
   },
   "file_extension": ".py",
   "mimetype": "text/x-python",
   "name": "python",
   "nbconvert_exporter": "python",
   "pygments_lexer": "ipython3",
   "version": "3.10.12"
  }
 },
 "nbformat": 4,
 "nbformat_minor": 5
}
